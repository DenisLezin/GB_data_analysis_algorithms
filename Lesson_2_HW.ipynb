{
 "cells": [
  {
   "cell_type": "markdown",
   "id": "bcc69753",
   "metadata": {
    "id": "pv-pdIHpiqu5"
   },
   "source": [
    "## Для самостоятельной работы"
   ]
  },
  {
   "cell_type": "markdown",
   "id": "6d9cf01b",
   "metadata": {
    "id": "osNM_LLkiqu6"
   },
   "source": [
    "1. Сгенерировать датасет при помощи `sklearn.datasets.make_regression` и обучить линейную модель при помощи градиентного и стохастического градиентного спуска. Нанести среднеквадратичную ошибку для обоих методов на один график, сделать выводы о разнице скорости сходимости каждого из методов.\n",
    "2. Модифицировать решение первого задания путем добавления $L_{2}$-регуляризации (в функцию, считающую MSE добавить норму весов, а в поправку нужно добавить производную для нормы вектора весов по весам) и сравнить результаты."
   ]
  },
  {
   "cell_type": "code",
   "execution_count": 14,
   "id": "0d21880e",
   "metadata": {
    "executionInfo": {
     "elapsed": 365,
     "status": "ok",
     "timestamp": 1630429158874,
     "user": {
      "displayName": "Mariia Korliakova",
      "photoUrl": "",
      "userId": "14165537686129864864"
     },
     "user_tz": -180
    },
    "id": "R2bweyvtJkQK"
   },
   "outputs": [],
   "source": [
    "from sklearn.datasets import make_regression\n",
    "from matplotlib import pyplot as plt\n",
    "import numpy as np"
   ]
  },
  {
   "cell_type": "code",
   "execution_count": 85,
   "id": "29dc6841",
   "metadata": {},
   "outputs": [],
   "source": [
    "def calc_mae(y, y_pred):\n",
    "    err = np.mean(np.abs(y - y_pred))\n",
    "    return err\n",
    "\n",
    "\n",
    "def calc_mse(y, y_pred):\n",
    "    err = np.mean((y - y_pred)**2) # <=> 1/n * np.sum((y_pred - y)**2)\n",
    "    return err\n",
    "\n",
    "\n",
    "def gradient_desc(X, y, W, alpha=0.7, e=1e-8):\n",
    "    errors = []\n",
    "    \n",
    "    w_list = [W.copy()]\n",
    "    X = X.copy().T\n",
    "    n = X.shape[1]\n",
    "    err_base = np.inf\n",
    "    i = 1\n",
    "    max_iter = 1e5\n",
    "    \n",
    "    while True:\n",
    "        y_pred = np.dot(w_list[-1], X)\n",
    "        err = calc_mse(y, y_pred)\n",
    "        \n",
    "        if abs(err_base - err) < e and i <= max_iter:\n",
    "            break\n",
    "        else:\n",
    "            err_base = err\n",
    "            \n",
    "        W_new = w_list[-1] - alpha * (1/n * 2 * X @ (y_pred - y).T)\n",
    "        \n",
    "        print(W_new, err)\n",
    "        W.append(W_new.copy())\n",
    "        errors.append(err)\n",
    "        i += 1\n",
    "        \n",
    "        if i % 50 == 0:\n",
    "            alpha /= 1.1\n",
    "            \n",
    "    return w_list, errors\n",
    "\n",
    "\n",
    "def stoch_gradient_desc(X, y, W, alpha=None, e=None):\n",
    "#     # инициализируем начальный вектор весов\n",
    "#     w = np.random.randn(2) # Это частный случай\n",
    "\n",
    "    # список векторов весов после каждой итерации\n",
    "    w_list = [np.random.randn(2)]\n",
    "\n",
    "    # список значений ошибок после каждой итерации\n",
    "    errors = []\n",
    "\n",
    "    # шаг градиентного спуска\n",
    "    eta = 0.15\n",
    "\n",
    "    # максимальное число итераций\n",
    "    max_iter = 1e5\n",
    "\n",
    "    # критерий сходимости (разница весов, при которой алгоритм останавливается)\n",
    "    min_weight_dist = 1e-8\n",
    "\n",
    "    # зададим начальную разницу весов большим числом\n",
    "    weight_dist = np.inf\n",
    "\n",
    "    # счетчик итераций\n",
    "    iter_num = 0\n",
    "    lamb = 0.01 \n",
    "    np.random.seed(1234)\n",
    "\n",
    "    Q = [0]  \n",
    "\n",
    "    # ход градиентного спуска\n",
    "    while weight_dist > min_weight_dist and iter_num < max_iter:\n",
    "\n",
    "        # генерируем случайный индекс объекта выборки\n",
    "        train_ind = np.random.randint(X.shape[0])\n",
    "        \n",
    "        y_pred_i = np.dot(X[train_ind], w)\n",
    "        new_w = w - (2 * eta * np.dot(X[train_ind].T, (y_pred_i - y[train_ind])) / y.shape[0])\n",
    "\n",
    "        weight_dist = np.linalg.norm(new_w - w, ord=2)\n",
    "\n",
    "        w_list.append(new_w.copy())\n",
    "        errors.append(mserror(data, new_w, target))\n",
    "        Q.append(Q[-1] * (1 - lamb) + lamb * (np.dot(data[train_ind], w) - target[train_ind])**2)\n",
    "        iter_num += 1\n",
    "        w = new_w\n",
    "\n",
    "        if i % 50 == 0:\n",
    "            alpha /= 1.1\n",
    "            \n",
    "    return w_list, Q, errors\n"
   ]
  },
  {
   "cell_type": "code",
   "execution_count": 22,
   "id": "29e01a9a",
   "metadata": {
    "executionInfo": {
     "elapsed": 369,
     "status": "ok",
     "timestamp": 1630429222366,
     "user": {
      "displayName": "Mariia Korliakova",
      "photoUrl": "",
      "userId": "14165537686129864864"
     },
     "user_tz": -180
    },
    "id": "N55jxAaYJpqK"
   },
   "outputs": [],
   "source": [
    "data, target, coef = make_regression(1000, 2, coef = True)"
   ]
  },
  {
   "cell_type": "code",
   "execution_count": 23,
   "id": "ee05d2c3",
   "metadata": {
    "colab": {
     "base_uri": "https://localhost:8080/",
     "height": 265
    },
    "executionInfo": {
     "elapsed": 367,
     "status": "ok",
     "timestamp": 1630429272186,
     "user": {
      "displayName": "Mariia Korliakova",
      "photoUrl": "",
      "userId": "14165537686129864864"
     },
     "user_tz": -180
    },
    "id": "VYQIrYNaJy8U",
    "outputId": "98ccfc57-fba0-4e56-ea9f-90e003800ea7"
   },
   "outputs": [
    {
     "data": {
      "image/png": "[encoded data removed]",
      "text/plain": [
       "<Figure size 432x288 with 1 Axes>"
      ]
     },
     "metadata": {
      "needs_background": "light"
     },
     "output_type": "display_data"
    }
   ],
   "source": [
    "plt.plot(datar[:,0], target,'.')\n",
    "plt.show()"
   ]
  },
  {
   "cell_type": "code",
   "execution_count": 28,
   "id": "54c3dc28",
   "metadata": {},
   "outputs": [
    {
     "data": {
      "text/plain": [
       "((1000, 2), array([39.19642017, 97.78848351]))"
      ]
     },
     "execution_count": 28,
     "metadata": {},
     "output_type": "execute_result"
    }
   ],
   "source": [
    "data.shape, coef"
   ]
  },
  {
   "cell_type": "code",
   "execution_count": 91,
   "id": "8a30d7ee",
   "metadata": {},
   "outputs": [
    {
     "data": {
      "text/plain": [
       "([[array([1.05446843, 0.38589178])]], [])"
      ]
     },
     "execution_count": 91,
     "metadata": {},
     "output_type": "execute_result"
    }
   ],
   "source": [
    "weights_init = [np.random.randn(2)]\n",
    "W, errs = gradient_desc(data, target, weights_init)\n",
    "W, errs"
   ]
  },
  {
   "cell_type": "code",
   "execution_count": 77,
   "id": "65dff0e7",
   "metadata": {},
   "outputs": [
    {
     "name": "stdout",
     "output_type": "stream",
     "text": [
      "[array([0.7184675 , 0.58237356])] [[ 0.75402941  1.81601014 -0.45211858 ...  0.89532968 -0.15357738\n",
      "   2.0332726 ]\n",
      " [-0.93221466 -0.77890356  0.60064962 ... -0.61429426 -0.44218801\n",
      "   0.21508907]]\n"
     ]
    },
    {
     "data": {
      "text/plain": [
       "array([[1164.11527717, 1163.97918323],\n",
       "       [2901.33534767, 2901.19925373]])"
      ]
     },
     "execution_count": 77,
     "metadata": {},
     "output_type": "execute_result"
    }
   ],
   "source": [
    "W = [weights_init.copy()]\n",
    "print(W[-1], data.T)\n",
    "y_pred = np.dot(W[-1], data.T)\n",
    "\n",
    "W[-1] - 0.15 * (1/10 * 2 * data.T @ (y_pred - target).T)"
   ]
  },
  {
   "cell_type": "code",
   "execution_count": 75,
   "id": "d5858f23",
   "metadata": {},
   "outputs": [
    {
     "data": {
      "text/plain": [
       "(1000, 1)"
      ]
     },
     "execution_count": 75,
     "metadata": {},
     "output_type": "execute_result"
    }
   ],
   "source": [
    "(y_pred - target).T.shape"
   ]
  },
  {
   "cell_type": "code",
   "execution_count": 72,
   "id": "d81becdc",
   "metadata": {},
   "outputs": [
    {
     "data": {
      "text/plain": [
       "(1000, 2)"
      ]
     },
     "execution_count": 72,
     "metadata": {},
     "output_type": "execute_result"
    }
   ],
   "source": [
    "data.shape"
   ]
  },
  {
   "cell_type": "code",
   "execution_count": null,
   "id": "111b7c07",
   "metadata": {},
   "outputs": [],
   "source": [
    "# Визуализируем изменение весов (красной точкой обозначены истинные веса, сгенерированные вначале)\n",
    "plt.figure(figsize=(13, 6))\n",
    "plt.title('Stochastic gradient descent')\n",
    "plt.xlabel(r'$w_1$')\n",
    "plt.ylabel(r'$w_2$')\n",
    "\n",
    "plt.scatter(w_list[:, 0], w_list[:, 1])\n",
    "plt.scatter(coef[0], coef[1], c='r')\n",
    "# plt.plot(w_list[:, 0], w_list[:, 1])\n",
    "\n",
    "plt.show()"
   ]
  },
  {
   "cell_type": "code",
   "execution_count": null,
   "id": "876e620f",
   "metadata": {},
   "outputs": [],
   "source": []
  },
  {
   "cell_type": "code",
   "execution_count": null,
   "id": "a9d0b205",
   "metadata": {},
   "outputs": [],
   "source": []
  },
  {
   "cell_type": "code",
   "execution_count": null,
   "id": "0b5d3b59",
   "metadata": {},
   "outputs": [],
   "source": []
  },
  {
   "cell_type": "code",
   "execution_count": null,
   "id": "a532e068",
   "metadata": {},
   "outputs": [],
   "source": [
    "# инициализируем начальный вектор весов\n",
    "w = np.random.randn(2) # Это частный случай\n",
    " \n",
    "# список векторов весов после каждой итерации\n",
    "w_list = [w.copy()]\n",
    " \n",
    "# список значений ошибок после каждой итерации\n",
    "errors = []\n",
    " \n",
    "# шаг градиентного спуска\n",
    "eta = 0.15\n",
    " \n",
    "# максимальное число итераций\n",
    "max_iter = 1e5\n",
    " \n",
    "# критерий сходимости (разница весов, при которой алгоритм останавливается)\n",
    "min_weight_dist = 1e-8\n",
    " \n",
    "# зададим начальную разницу весов большим числом\n",
    "weight_dist = np.inf\n",
    " \n",
    "# счетчик итераций\n",
    "iter_num = 0\n",
    "lamb = 0.01 \n",
    "np.random.seed(1234)\n",
    "\n",
    "Q = [0]  \n",
    "\n",
    "# ход градиентного спуска\n",
    "while weight_dist > min_weight_dist and iter_num < max_iter:\n",
    "    \n",
    "    # генерируем случайный индекс объекта выборки\n",
    "    train_ind = np.random.randint(data.shape[0])\n",
    "    \n",
    "    new_w = w - 2 * eta * np.dot(data[train_ind].T, (np.dot(data[train_ind], w) - target[train_ind])) / target.shape[0]\n",
    " \n",
    "    weight_dist = np.linalg.norm(new_w - w, ord=2)\n",
    "    \n",
    "    w_list.append(new_w.copy())\n",
    "    errors.append(mserror(data, new_w, target))\n",
    "    Q.append(Q[-1] * (1 - lamb) + lamb * (np.dot(data[train_ind], w) - target[train_ind])**2)\n",
    "    iter_num += 1\n",
    "    w = new_w\n",
    "    \n",
    "w_list = np.array(w_list)\n",
    " \n",
    "print(f'В случае использования стохастического градиентного спуска функционал ошибки составляет {round(errors[-1], 4)}')"
   ]
  },
  {
   "cell_type": "code",
   "execution_count": null,
   "id": "b0983720",
   "metadata": {},
   "outputs": [],
   "source": []
  },
  {
   "cell_type": "code",
   "execution_count": null,
   "id": "36d39518",
   "metadata": {},
   "outputs": [],
   "source": []
  },
  {
   "cell_type": "code",
   "execution_count": null,
   "id": "a16f2395",
   "metadata": {},
   "outputs": [],
   "source": []
  }
 ],
 "metadata": {
  "kernelspec": {
   "display_name": "Python 3 (ipykernel)",
   "language": "python",
   "name": "python3"
  },
  "language_info": {
   "codemirror_mode": {
    "name": "ipython",
    "version": 3
   },
   "file_extension": ".py",
   "mimetype": "text/x-python",
   "name": "python",
   "nbconvert_exporter": "python",
   "pygments_lexer": "ipython3",
   "version": "3.8.12"
  }
 },
 "nbformat": 4,
 "nbformat_minor": 5
}
